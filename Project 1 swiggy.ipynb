{
 "cells": [
  {
   "cell_type": "markdown",
   "id": "c9dcbe70",
   "metadata": {},
   "source": [
    "# ExxpertSCM internship task\n",
    "\n",
    "### Data Analytics Assigment ---- Project - 1\n",
    "###  Swiggy Data Analysis"
   ]
  },
  {
   "cell_type": "markdown",
   "id": "cba06dae",
   "metadata": {},
   "source": [
    "######    Project 1- Swiggy or similar platform data set. On all India basis, based on at least 3-month data\n",
    "    Tasks - 1. The top 3 food ordered\n",
    "    2. Top 3 Shops doing maximum business\n",
    "    3. Bottom 3 rated shops\n",
    "    4. Average delivery time for items in Task 1"
   ]
  },
  {
   "cell_type": "markdown",
   "id": "9ed3ba9c",
   "metadata": {},
   "source": [
    "### By Mohamad Ehthesham S"
   ]
  },
  {
   "cell_type": "markdown",
   "id": "b93fa752",
   "metadata": {},
   "source": [
    "LinkedIn - https://www.linkedin.com/in/-mohamad-ehthesham/overlay/contact-info/\n",
    "\n",
    "GitHub - https://github.com/MohamadFaiz0102"
   ]
  },
  {
   "cell_type": "code",
   "execution_count": 1,
   "id": "93c7e728",
   "metadata": {},
   "outputs": [],
   "source": [
    "import pandas as pd \n",
    "import matplotlib.pyplot as plt\n",
    "\n",
    "import seaborn as sns\n",
    "\n",
    "%matplotlib inline"
   ]
  },
  {
   "cell_type": "markdown",
   "id": "e08bd43a",
   "metadata": {},
   "source": [
    "Data can be found here - https://www.kaggle.com/datasets/aniruddhapa/swiggy-restaurants-dataset-of-metro-cities?select=Swiggy_dataset.csv"
   ]
  },
  {
   "cell_type": "code",
   "execution_count": 2,
   "id": "4ad499f1",
   "metadata": {},
   "outputs": [],
   "source": [
    "db=pd.read_csv('Swiggy_dataset.csv')"
   ]
  },
  {
   "cell_type": "code",
   "execution_count": 3,
   "id": "91a3d2e7",
   "metadata": {},
   "outputs": [
    {
     "data": {
      "text/html": [
       "<div>\n",
       "<style scoped>\n",
       "    .dataframe tbody tr th:only-of-type {\n",
       "        vertical-align: middle;\n",
       "    }\n",
       "\n",
       "    .dataframe tbody tr th {\n",
       "        vertical-align: top;\n",
       "    }\n",
       "\n",
       "    .dataframe thead th {\n",
       "        text-align: right;\n",
       "    }\n",
       "</style>\n",
       "<table border=\"1\" class=\"dataframe\">\n",
       "  <thead>\n",
       "    <tr style=\"text-align: right;\">\n",
       "      <th></th>\n",
       "      <th>type</th>\n",
       "      <th>id</th>\n",
       "      <th>name</th>\n",
       "      <th>uuid</th>\n",
       "      <th>city</th>\n",
       "      <th>area</th>\n",
       "      <th>avgRating</th>\n",
       "      <th>totalRatingsString</th>\n",
       "      <th>cuisines</th>\n",
       "      <th>costForTwoStrings</th>\n",
       "      <th>deliveryTime</th>\n",
       "      <th>minDeliveryTime</th>\n",
       "      <th>maxDeliveryTime</th>\n",
       "      <th>address</th>\n",
       "      <th>locality</th>\n",
       "      <th>unserviceable</th>\n",
       "      <th>veg</th>\n",
       "      <th>City2</th>\n",
       "    </tr>\n",
       "  </thead>\n",
       "  <tbody>\n",
       "    <tr>\n",
       "      <th>0</th>\n",
       "      <td>F</td>\n",
       "      <td>239753</td>\n",
       "      <td>The Halal Kitchen</td>\n",
       "      <td>7bac6834-aa3a-4ee6-b504-30bc69dd3d2c</td>\n",
       "      <td>Ahmedabad</td>\n",
       "      <td>Ellisbridge</td>\n",
       "      <td>4.1</td>\n",
       "      <td>100+ ratings</td>\n",
       "      <td>['North Indian' 'Chinese' 'Afghani' 'Biryani']</td>\n",
       "      <td>₹250 FOR TWO</td>\n",
       "      <td>31</td>\n",
       "      <td>31</td>\n",
       "      <td>31</td>\n",
       "      <td>Hotel Golden plaza Opp Town Hall Nr Ellisbridg...</td>\n",
       "      <td>Paldi &amp; Ambawadi</td>\n",
       "      <td>False</td>\n",
       "      <td>False</td>\n",
       "      <td>NaN</td>\n",
       "    </tr>\n",
       "    <tr>\n",
       "      <th>1</th>\n",
       "      <td>F</td>\n",
       "      <td>50934</td>\n",
       "      <td>Choice Snack Bar</td>\n",
       "      <td>d40f1d3f-f284-43dc-b30b-fb7c1ee9cf4b</td>\n",
       "      <td>Ahmedabad</td>\n",
       "      <td>Navrangpura</td>\n",
       "      <td>4.4</td>\n",
       "      <td>100+ ratings</td>\n",
       "      <td>['Beverages']</td>\n",
       "      <td>₹450 FOR TWO</td>\n",
       "      <td>33</td>\n",
       "      <td>33</td>\n",
       "      <td>33</td>\n",
       "      <td>Yamuna Building Near Swastik Cross Road C G Ro...</td>\n",
       "      <td>C G Road</td>\n",
       "      <td>False</td>\n",
       "      <td>False</td>\n",
       "      <td>NaN</td>\n",
       "    </tr>\n",
       "  </tbody>\n",
       "</table>\n",
       "</div>"
      ],
      "text/plain": [
       "  type      id               name                                  uuid  \\\n",
       "0    F  239753  The Halal Kitchen  7bac6834-aa3a-4ee6-b504-30bc69dd3d2c   \n",
       "1    F   50934   Choice Snack Bar  d40f1d3f-f284-43dc-b30b-fb7c1ee9cf4b   \n",
       "\n",
       "        city         area avgRating totalRatingsString  \\\n",
       "0  Ahmedabad  Ellisbridge       4.1       100+ ratings   \n",
       "1  Ahmedabad  Navrangpura       4.4       100+ ratings   \n",
       "\n",
       "                                         cuisines costForTwoStrings  \\\n",
       "0  ['North Indian' 'Chinese' 'Afghani' 'Biryani']      ₹250 FOR TWO   \n",
       "1                                   ['Beverages']      ₹450 FOR TWO   \n",
       "\n",
       "   deliveryTime  minDeliveryTime  maxDeliveryTime  \\\n",
       "0            31               31               31   \n",
       "1            33               33               33   \n",
       "\n",
       "                                             address          locality  \\\n",
       "0  Hotel Golden plaza Opp Town Hall Nr Ellisbridg...  Paldi & Ambawadi   \n",
       "1  Yamuna Building Near Swastik Cross Road C G Ro...          C G Road   \n",
       "\n",
       "  unserviceable    veg  City2  \n",
       "0         False  False    NaN  \n",
       "1         False  False    NaN  "
      ]
     },
     "execution_count": 3,
     "metadata": {},
     "output_type": "execute_result"
    }
   ],
   "source": [
    "db.head(2)"
   ]
  },
  {
   "cell_type": "code",
   "execution_count": 4,
   "id": "53e543b4",
   "metadata": {},
   "outputs": [
    {
     "name": "stdout",
     "output_type": "stream",
     "text": [
      "<class 'pandas.core.frame.DataFrame'>\n",
      "RangeIndex: 6773 entries, 0 to 6772\n",
      "Data columns (total 18 columns):\n",
      " #   Column              Non-Null Count  Dtype  \n",
      "---  ------              --------------  -----  \n",
      " 0   type                6773 non-null   object \n",
      " 1   id                  6773 non-null   int64  \n",
      " 2   name                6773 non-null   object \n",
      " 3   uuid                6772 non-null   object \n",
      " 4   city                6773 non-null   object \n",
      " 5   area                6773 non-null   object \n",
      " 6   avgRating           6104 non-null   object \n",
      " 7   totalRatingsString  6773 non-null   object \n",
      " 8   cuisines            6773 non-null   object \n",
      " 9   costForTwoStrings   6773 non-null   object \n",
      " 10  deliveryTime        6773 non-null   int64  \n",
      " 11  minDeliveryTime     6773 non-null   int64  \n",
      " 12  maxDeliveryTime     6773 non-null   int64  \n",
      " 13  address             6770 non-null   object \n",
      " 14  locality            6772 non-null   object \n",
      " 15  unserviceable       6772 non-null   object \n",
      " 16  veg                 6772 non-null   object \n",
      " 17  City2               0 non-null      float64\n",
      "dtypes: float64(1), int64(4), object(13)\n",
      "memory usage: 952.6+ KB\n"
     ]
    }
   ],
   "source": [
    "db.info()"
   ]
  },
  {
   "cell_type": "markdown",
   "id": "cb1915c7",
   "metadata": {},
   "source": [
    "### Nulls"
   ]
  },
  {
   "cell_type": "code",
   "execution_count": 5,
   "id": "60e26166",
   "metadata": {
    "scrolled": true
   },
   "outputs": [
    {
     "data": {
      "text/plain": [
       "type                     0\n",
       "id                       0\n",
       "name                     0\n",
       "uuid                     1\n",
       "city                     0\n",
       "area                     0\n",
       "avgRating              669\n",
       "totalRatingsString       0\n",
       "cuisines                 0\n",
       "costForTwoStrings        0\n",
       "deliveryTime             0\n",
       "minDeliveryTime          0\n",
       "maxDeliveryTime          0\n",
       "address                  3\n",
       "locality                 1\n",
       "unserviceable            1\n",
       "veg                      1\n",
       "City2                 6773\n",
       "dtype: int64"
      ]
     },
     "execution_count": 5,
     "metadata": {},
     "output_type": "execute_result"
    }
   ],
   "source": [
    "db.isnull().sum()\n",
    "# deleting uuid,avgrating, address,llocality,unserisable,veg,city2 these have null values"
   ]
  },
  {
   "cell_type": "code",
   "execution_count": 6,
   "id": "47700158",
   "metadata": {},
   "outputs": [],
   "source": [
    "# deleting unnecessary columns\n",
    "# deleting type,uuid,avgrating, address,llocality,unserisable,veg,city2\n",
    "\n",
    "db.drop(['type','uuid','address','area','locality','unserviceable','City2'],inplace=True,axis=1)"
   ]
  },
  {
   "cell_type": "code",
   "execution_count": 7,
   "id": "2915fcc1",
   "metadata": {},
   "outputs": [
    {
     "data": {
      "text/html": [
       "<div>\n",
       "<style scoped>\n",
       "    .dataframe tbody tr th:only-of-type {\n",
       "        vertical-align: middle;\n",
       "    }\n",
       "\n",
       "    .dataframe tbody tr th {\n",
       "        vertical-align: top;\n",
       "    }\n",
       "\n",
       "    .dataframe thead th {\n",
       "        text-align: right;\n",
       "    }\n",
       "</style>\n",
       "<table border=\"1\" class=\"dataframe\">\n",
       "  <thead>\n",
       "    <tr style=\"text-align: right;\">\n",
       "      <th></th>\n",
       "      <th>id</th>\n",
       "      <th>name</th>\n",
       "      <th>city</th>\n",
       "      <th>avgRating</th>\n",
       "      <th>totalRatingsString</th>\n",
       "      <th>cuisines</th>\n",
       "      <th>costForTwoStrings</th>\n",
       "      <th>deliveryTime</th>\n",
       "      <th>minDeliveryTime</th>\n",
       "      <th>maxDeliveryTime</th>\n",
       "      <th>veg</th>\n",
       "    </tr>\n",
       "  </thead>\n",
       "  <tbody>\n",
       "    <tr>\n",
       "      <th>0</th>\n",
       "      <td>239753</td>\n",
       "      <td>The Halal Kitchen</td>\n",
       "      <td>Ahmedabad</td>\n",
       "      <td>4.1</td>\n",
       "      <td>100+ ratings</td>\n",
       "      <td>['North Indian' 'Chinese' 'Afghani' 'Biryani']</td>\n",
       "      <td>₹250 FOR TWO</td>\n",
       "      <td>31</td>\n",
       "      <td>31</td>\n",
       "      <td>31</td>\n",
       "      <td>False</td>\n",
       "    </tr>\n",
       "    <tr>\n",
       "      <th>1</th>\n",
       "      <td>50934</td>\n",
       "      <td>Choice Snack Bar</td>\n",
       "      <td>Ahmedabad</td>\n",
       "      <td>4.4</td>\n",
       "      <td>100+ ratings</td>\n",
       "      <td>['Beverages']</td>\n",
       "      <td>₹450 FOR TWO</td>\n",
       "      <td>33</td>\n",
       "      <td>33</td>\n",
       "      <td>33</td>\n",
       "      <td>False</td>\n",
       "    </tr>\n",
       "  </tbody>\n",
       "</table>\n",
       "</div>"
      ],
      "text/plain": [
       "       id               name       city avgRating totalRatingsString  \\\n",
       "0  239753  The Halal Kitchen  Ahmedabad       4.1       100+ ratings   \n",
       "1   50934   Choice Snack Bar  Ahmedabad       4.4       100+ ratings   \n",
       "\n",
       "                                         cuisines costForTwoStrings  \\\n",
       "0  ['North Indian' 'Chinese' 'Afghani' 'Biryani']      ₹250 FOR TWO   \n",
       "1                                   ['Beverages']      ₹450 FOR TWO   \n",
       "\n",
       "   deliveryTime  minDeliveryTime  maxDeliveryTime    veg  \n",
       "0            31               31               31  False  \n",
       "1            33               33               33  False  "
      ]
     },
     "execution_count": 7,
     "metadata": {},
     "output_type": "execute_result"
    }
   ],
   "source": [
    "db.head(2)"
   ]
  },
  {
   "cell_type": "markdown",
   "id": "6f0c8488",
   "metadata": {},
   "source": [
    "### Cleaning the data by deleting commas and brackets "
   ]
  },
  {
   "cell_type": "code",
   "execution_count": 8,
   "id": "af559905",
   "metadata": {
    "scrolled": false
   },
   "outputs": [],
   "source": [
    "db['cuisines']=db['cuisines'].str.replace('[','',regex=True);\n",
    "db['cuisines']=db['cuisines'].str.replace(']','',regex=True);\n",
    "db['cuisines']=db['cuisines'].str.replace(\"'\",'',regex=True);"
   ]
  },
  {
   "cell_type": "code",
   "execution_count": 9,
   "id": "fe88e196",
   "metadata": {},
   "outputs": [
    {
     "data": {
      "text/html": [
       "<div>\n",
       "<style scoped>\n",
       "    .dataframe tbody tr th:only-of-type {\n",
       "        vertical-align: middle;\n",
       "    }\n",
       "\n",
       "    .dataframe tbody tr th {\n",
       "        vertical-align: top;\n",
       "    }\n",
       "\n",
       "    .dataframe thead th {\n",
       "        text-align: right;\n",
       "    }\n",
       "</style>\n",
       "<table border=\"1\" class=\"dataframe\">\n",
       "  <thead>\n",
       "    <tr style=\"text-align: right;\">\n",
       "      <th></th>\n",
       "      <th>id</th>\n",
       "      <th>name</th>\n",
       "      <th>city</th>\n",
       "      <th>avgRating</th>\n",
       "      <th>totalRatingsString</th>\n",
       "      <th>cuisines</th>\n",
       "      <th>costForTwoStrings</th>\n",
       "      <th>deliveryTime</th>\n",
       "      <th>minDeliveryTime</th>\n",
       "      <th>maxDeliveryTime</th>\n",
       "      <th>veg</th>\n",
       "    </tr>\n",
       "  </thead>\n",
       "  <tbody>\n",
       "    <tr>\n",
       "      <th>0</th>\n",
       "      <td>239753</td>\n",
       "      <td>The Halal Kitchen</td>\n",
       "      <td>Ahmedabad</td>\n",
       "      <td>4.1</td>\n",
       "      <td>100+ ratings</td>\n",
       "      <td>North Indian Chinese Afghani Biryani</td>\n",
       "      <td>₹250 FOR TWO</td>\n",
       "      <td>31</td>\n",
       "      <td>31</td>\n",
       "      <td>31</td>\n",
       "      <td>False</td>\n",
       "    </tr>\n",
       "    <tr>\n",
       "      <th>1</th>\n",
       "      <td>50934</td>\n",
       "      <td>Choice Snack Bar</td>\n",
       "      <td>Ahmedabad</td>\n",
       "      <td>4.4</td>\n",
       "      <td>100+ ratings</td>\n",
       "      <td>Beverages</td>\n",
       "      <td>₹450 FOR TWO</td>\n",
       "      <td>33</td>\n",
       "      <td>33</td>\n",
       "      <td>33</td>\n",
       "      <td>False</td>\n",
       "    </tr>\n",
       "  </tbody>\n",
       "</table>\n",
       "</div>"
      ],
      "text/plain": [
       "       id               name       city avgRating totalRatingsString  \\\n",
       "0  239753  The Halal Kitchen  Ahmedabad       4.1       100+ ratings   \n",
       "1   50934   Choice Snack Bar  Ahmedabad       4.4       100+ ratings   \n",
       "\n",
       "                               cuisines costForTwoStrings  deliveryTime  \\\n",
       "0  North Indian Chinese Afghani Biryani      ₹250 FOR TWO            31   \n",
       "1                             Beverages      ₹450 FOR TWO            33   \n",
       "\n",
       "   minDeliveryTime  maxDeliveryTime    veg  \n",
       "0               31               31  False  \n",
       "1               33               33  False  "
      ]
     },
     "execution_count": 9,
     "metadata": {},
     "output_type": "execute_result"
    }
   ],
   "source": [
    "db.head(2)"
   ]
  },
  {
   "cell_type": "markdown",
   "id": "769980d8",
   "metadata": {},
   "source": [
    "### Task 1"
   ]
  },
  {
   "cell_type": "markdown",
   "id": "46d4cde8",
   "metadata": {},
   "source": [
    "### The top 3 food ordered"
   ]
  },
  {
   "cell_type": "code",
   "execution_count": 10,
   "id": "acde6bea",
   "metadata": {},
   "outputs": [
    {
     "data": {
      "text/plain": [
       "Indian          322\n",
       "Chinese         214\n",
       "North Indian    204\n",
       "Fast Food       189\n",
       "South Indian    142\n",
       "Name: cuisines, dtype: int64"
      ]
     },
     "execution_count": 10,
     "metadata": {},
     "output_type": "execute_result"
    }
   ],
   "source": [
    "t1=db['cuisines'].value_counts().head(5)\n",
    "t1"
   ]
  },
  {
   "cell_type": "markdown",
   "id": "5e07fc75",
   "metadata": {},
   "source": [
    "#### Visuals"
   ]
  },
  {
   "cell_type": "code",
   "execution_count": 11,
   "id": "b9dc0979",
   "metadata": {},
   "outputs": [
    {
     "data": {
      "image/png": "[encoded data removed]",
      "text/plain": [
       "<Figure size 720x576 with 1 Axes>"
      ]
     },
     "metadata": {
      "needs_background": "light"
     },
     "output_type": "display_data"
    }
   ],
   "source": [
    "t1.plot(kind='bar',figsize=(10,8),color='olive')\n",
    "\n",
    "plt.title('The top 5 food ordered',fontsize=15)\n",
    "\n",
    "plt.ylabel('Total Orders',fontsize=15)\n",
    "plt.xlabel('Names',fontsize=15)\n",
    "\n",
    "plt.xticks(rotation=360,ha='right');"
   ]
  },
  {
   "cell_type": "markdown",
   "id": "599d9472",
   "metadata": {},
   "source": [
    "####    So Indian, North Indian , Fast Food are top orderd foods"
   ]
  },
  {
   "cell_type": "markdown",
   "id": "505ea880",
   "metadata": {},
   "source": [
    "### Task 2"
   ]
  },
  {
   "cell_type": "code",
   "execution_count": 12,
   "id": "3ea8ef82",
   "metadata": {
    "scrolled": false
   },
   "outputs": [],
   "source": [
    "# check uniques for costforTwo\n",
    "\n",
    "a=db['costForTwoStrings'].unique()\n",
    "# a"
   ]
  },
  {
   "cell_type": "code",
   "execution_count": 13,
   "id": "a09d9af8",
   "metadata": {
    "scrolled": true
   },
   "outputs": [
    {
     "data": {
      "text/plain": [
       "array([ 250,  450,  600,  700,  500,  200,  800,  900,  300,  350,  650,\n",
       "        199,  400, 1200,  130,  150,  550,    0,  100,  180,  750, 1500,\n",
       "        120, 1000,  160,  280,  850, 1100,  149,  240,  399,    5,   50,\n",
       "         80,   70,  220,  193,  499,  251,  299,  126,   99,  260,  170,\n",
       "         15,  270,  326,  225,  290, 2500, 1600,  599,  129,  275, 2000,\n",
       "        330,  110, 1300, 1400,   75,  197,  256, 1250,  375,  140,  230,\n",
       "        137,  249,  320,  178,  384,  532,  950,  297,    1, 1900,   10,\n",
       "        175,  620,   85,  340,  398,   20,   30,  190,   45, 1650,  390,\n",
       "        540,   98,  159,  205,   40, 1800,   60,  105,  355,  196,  151,\n",
       "        360,  420,  518, 1255,  155,  978])"
      ]
     },
     "execution_count": 13,
     "metadata": {},
     "output_type": "execute_result"
    }
   ],
   "source": [
    "# seperating the strings from costForTwoStrings and converting to int\n",
    "\n",
    "db['costForTwoStrings']=db['costForTwoStrings'].replace('₹','',regex=True).replace('FOR TWO','',regex=True).replace(' ','',regex=True)\n",
    "\n",
    "db['costForTwoStrings']=db['costForTwoStrings'].astype(int)\n",
    "\n",
    "db['costForTwoStrings'].unique()"
   ]
  },
  {
   "cell_type": "code",
   "execution_count": 14,
   "id": "35d1e43b",
   "metadata": {},
   "outputs": [
    {
     "data": {
      "text/html": [
       "<div>\n",
       "<style scoped>\n",
       "    .dataframe tbody tr th:only-of-type {\n",
       "        vertical-align: middle;\n",
       "    }\n",
       "\n",
       "    .dataframe tbody tr th {\n",
       "        vertical-align: top;\n",
       "    }\n",
       "\n",
       "    .dataframe thead th {\n",
       "        text-align: right;\n",
       "    }\n",
       "</style>\n",
       "<table border=\"1\" class=\"dataframe\">\n",
       "  <thead>\n",
       "    <tr style=\"text-align: right;\">\n",
       "      <th></th>\n",
       "      <th>id</th>\n",
       "      <th>name</th>\n",
       "      <th>city</th>\n",
       "      <th>avgRating</th>\n",
       "      <th>totalRatingsString</th>\n",
       "      <th>cuisines</th>\n",
       "      <th>costForTwoStrings</th>\n",
       "      <th>deliveryTime</th>\n",
       "      <th>minDeliveryTime</th>\n",
       "      <th>maxDeliveryTime</th>\n",
       "      <th>veg</th>\n",
       "    </tr>\n",
       "  </thead>\n",
       "  <tbody>\n",
       "    <tr>\n",
       "      <th>0</th>\n",
       "      <td>239753</td>\n",
       "      <td>The Halal Kitchen</td>\n",
       "      <td>Ahmedabad</td>\n",
       "      <td>4.1</td>\n",
       "      <td>100+ ratings</td>\n",
       "      <td>North Indian Chinese Afghani Biryani</td>\n",
       "      <td>250</td>\n",
       "      <td>31</td>\n",
       "      <td>31</td>\n",
       "      <td>31</td>\n",
       "      <td>False</td>\n",
       "    </tr>\n",
       "    <tr>\n",
       "      <th>1</th>\n",
       "      <td>50934</td>\n",
       "      <td>Choice Snack Bar</td>\n",
       "      <td>Ahmedabad</td>\n",
       "      <td>4.4</td>\n",
       "      <td>100+ ratings</td>\n",
       "      <td>Beverages</td>\n",
       "      <td>450</td>\n",
       "      <td>33</td>\n",
       "      <td>33</td>\n",
       "      <td>33</td>\n",
       "      <td>False</td>\n",
       "    </tr>\n",
       "  </tbody>\n",
       "</table>\n",
       "</div>"
      ],
      "text/plain": [
       "       id               name       city avgRating totalRatingsString  \\\n",
       "0  239753  The Halal Kitchen  Ahmedabad       4.1       100+ ratings   \n",
       "1   50934   Choice Snack Bar  Ahmedabad       4.4       100+ ratings   \n",
       "\n",
       "                               cuisines  costForTwoStrings  deliveryTime  \\\n",
       "0  North Indian Chinese Afghani Biryani                250            31   \n",
       "1                             Beverages                450            33   \n",
       "\n",
       "   minDeliveryTime  maxDeliveryTime    veg  \n",
       "0               31               31  False  \n",
       "1               33               33  False  "
      ]
     },
     "execution_count": 14,
     "metadata": {},
     "output_type": "execute_result"
    }
   ],
   "source": [
    "db.head(2)"
   ]
  },
  {
   "cell_type": "code",
   "execution_count": 15,
   "id": "b1f52108",
   "metadata": {
    "scrolled": false
   },
   "outputs": [
    {
     "data": {
      "text/html": [
       "<div>\n",
       "<style scoped>\n",
       "    .dataframe tbody tr th:only-of-type {\n",
       "        vertical-align: middle;\n",
       "    }\n",
       "\n",
       "    .dataframe tbody tr th {\n",
       "        vertical-align: top;\n",
       "    }\n",
       "\n",
       "    .dataframe thead th {\n",
       "        text-align: right;\n",
       "    }\n",
       "</style>\n",
       "<table border=\"1\" class=\"dataframe\">\n",
       "  <thead>\n",
       "    <tr style=\"text-align: right;\">\n",
       "      <th></th>\n",
       "      <th></th>\n",
       "      <th>costForTwoStrings</th>\n",
       "    </tr>\n",
       "    <tr>\n",
       "      <th>name</th>\n",
       "      <th>avgRating</th>\n",
       "      <th></th>\n",
       "    </tr>\n",
       "  </thead>\n",
       "  <tbody>\n",
       "    <tr>\n",
       "      <th>Mainland China</th>\n",
       "      <th>4.3</th>\n",
       "      <td>2600</td>\n",
       "    </tr>\n",
       "    <tr>\n",
       "      <th>Behrouz Biryani</th>\n",
       "      <th>4.2</th>\n",
       "      <td>2500</td>\n",
       "    </tr>\n",
       "    <tr>\n",
       "      <th>ITC Windsor - Gourmet Couch</th>\n",
       "      <th>4.5</th>\n",
       "      <td>2500</td>\n",
       "    </tr>\n",
       "    <tr>\n",
       "      <th>Malgudi - The Savera Hotel</th>\n",
       "      <th>4.1</th>\n",
       "      <td>2500</td>\n",
       "    </tr>\n",
       "    <tr>\n",
       "      <th>Origami Japanese &amp; Korean Restaurant</th>\n",
       "      <th>4.4</th>\n",
       "      <td>2500</td>\n",
       "    </tr>\n",
       "  </tbody>\n",
       "</table>\n",
       "</div>"
      ],
      "text/plain": [
       "                                                costForTwoStrings\n",
       "name                                 avgRating                   \n",
       "Mainland China                       4.3                     2600\n",
       "Behrouz Biryani                      4.2                     2500\n",
       "ITC Windsor - Gourmet Couch          4.5                     2500\n",
       "Malgudi - The Savera Hotel           4.1                     2500\n",
       "Origami Japanese & Korean Restaurant 4.4                     2500"
      ]
     },
     "execution_count": 15,
     "metadata": {},
     "output_type": "execute_result"
    }
   ],
   "source": [
    "# check restaraounts for max price and rating\n",
    "\n",
    "m=db.groupby(['name','avgRating'])[['costForTwoStrings']].sum().nlargest(5,'costForTwoStrings')\n",
    "m"
   ]
  },
  {
   "cell_type": "markdown",
   "id": "f95029b6",
   "metadata": {},
   "source": [
    "### Top 3 restaurants doing maximum business"
   ]
  },
  {
   "cell_type": "code",
   "execution_count": 16,
   "id": "e57fc0f1",
   "metadata": {
    "scrolled": true
   },
   "outputs": [
    {
     "data": {
      "text/html": [
       "<div>\n",
       "<style scoped>\n",
       "    .dataframe tbody tr th:only-of-type {\n",
       "        vertical-align: middle;\n",
       "    }\n",
       "\n",
       "    .dataframe tbody tr th {\n",
       "        vertical-align: top;\n",
       "    }\n",
       "\n",
       "    .dataframe thead th {\n",
       "        text-align: right;\n",
       "    }\n",
       "</style>\n",
       "<table border=\"1\" class=\"dataframe\">\n",
       "  <thead>\n",
       "    <tr style=\"text-align: right;\">\n",
       "      <th></th>\n",
       "      <th>costForTwoStrings</th>\n",
       "    </tr>\n",
       "    <tr>\n",
       "      <th>name</th>\n",
       "      <th></th>\n",
       "    </tr>\n",
       "  </thead>\n",
       "  <tbody>\n",
       "    <tr>\n",
       "      <th>Mainland China</th>\n",
       "      <td>4300</td>\n",
       "    </tr>\n",
       "    <tr>\n",
       "      <th>Barbeque Nation</th>\n",
       "      <td>4200</td>\n",
       "    </tr>\n",
       "    <tr>\n",
       "      <th>Oven Story Pizza</th>\n",
       "      <td>4200</td>\n",
       "    </tr>\n",
       "    <tr>\n",
       "      <th>Behrouz Biryani</th>\n",
       "      <td>4000</td>\n",
       "    </tr>\n",
       "    <tr>\n",
       "      <th>McDonald's Gourmet Burger Collection</th>\n",
       "      <td>3400</td>\n",
       "    </tr>\n",
       "  </tbody>\n",
       "</table>\n",
       "</div>"
      ],
      "text/plain": [
       "                                      costForTwoStrings\n",
       "name                                                   \n",
       "Mainland China                                     4300\n",
       "Barbeque Nation                                    4200\n",
       "Oven Story Pizza                                   4200\n",
       "Behrouz Biryani                                    4000\n",
       "McDonald's Gourmet Burger Collection               3400"
      ]
     },
     "execution_count": 16,
     "metadata": {},
     "output_type": "execute_result"
    }
   ],
   "source": [
    "# check restaraounts for max price\n",
    "\n",
    "t2 =db.groupby(['name'])[['costForTwoStrings']].sum().nlargest(5,'costForTwoStrings')\n",
    "\n",
    "t2\n",
    "# so top 3 restaraunts doing maximum business are Mainland China, Oven Story Pizza, Behrouz Biryani"
   ]
  },
  {
   "cell_type": "code",
   "execution_count": 17,
   "id": "8e438725",
   "metadata": {},
   "outputs": [
    {
     "data": {
      "image/png": "[encoded data removed]",
      "text/plain": [
       "<Figure size 720x576 with 1 Axes>"
      ]
     },
     "metadata": {
      "needs_background": "light"
     },
     "output_type": "display_data"
    }
   ],
   "source": [
    "t2.plot(kind='bar',figsize=(10,8),color='brown',legend=None)\n",
    "\n",
    "plt.title('The top 5 maximum Restaraunts doing Business',fontsize=15)\n",
    "\n",
    "plt.ylabel('Total Order Prices',fontsize=15)\n",
    "plt.xlabel('Names',fontsize=15)\n",
    "\n",
    "plt.tight_layout()\n",
    "\n",
    "plt.xticks(rotation=50,ha='right');"
   ]
  },
  {
   "cell_type": "markdown",
   "id": "9bd31a2f",
   "metadata": {},
   "source": [
    "####    So top 3 restaraunts doing maximum business are Mainland China, Oven Story Pizza, Behrouz Biryani"
   ]
  },
  {
   "cell_type": "markdown",
   "id": "408e8978",
   "metadata": {},
   "source": [
    "### Task 3"
   ]
  },
  {
   "cell_type": "code",
   "execution_count": 18,
   "id": "2e37a169",
   "metadata": {
    "scrolled": true
   },
   "outputs": [
    {
     "data": {
      "text/plain": [
       "Subway                                 9\n",
       "Behrouz Biryani                        8\n",
       "La Pino'z Pizza                        8\n",
       "Natural Ice Cream                      7\n",
       "Keventers - Milkshakes and Desserts    7\n",
       "Name: name, dtype: int64"
      ]
     },
     "execution_count": 18,
     "metadata": {},
     "output_type": "execute_result"
    }
   ],
   "source": [
    "nu=db['name'].value_counts()\n",
    "nu.head(5)"
   ]
  },
  {
   "cell_type": "code",
   "execution_count": 19,
   "id": "550cfa70",
   "metadata": {
    "scrolled": false
   },
   "outputs": [
    {
     "data": {
      "text/html": [
       "<div>\n",
       "<style scoped>\n",
       "    .dataframe tbody tr th:only-of-type {\n",
       "        vertical-align: middle;\n",
       "    }\n",
       "\n",
       "    .dataframe tbody tr th {\n",
       "        vertical-align: top;\n",
       "    }\n",
       "\n",
       "    .dataframe thead th {\n",
       "        text-align: right;\n",
       "    }\n",
       "</style>\n",
       "<table border=\"1\" class=\"dataframe\">\n",
       "  <thead>\n",
       "    <tr style=\"text-align: right;\">\n",
       "      <th></th>\n",
       "      <th>id</th>\n",
       "      <th>name</th>\n",
       "      <th>city</th>\n",
       "      <th>avgRating</th>\n",
       "      <th>totalRatingsString</th>\n",
       "      <th>cuisines</th>\n",
       "      <th>costForTwoStrings</th>\n",
       "      <th>deliveryTime</th>\n",
       "      <th>minDeliveryTime</th>\n",
       "      <th>maxDeliveryTime</th>\n",
       "      <th>veg</th>\n",
       "    </tr>\n",
       "  </thead>\n",
       "  <tbody>\n",
       "    <tr>\n",
       "      <th>2063</th>\n",
       "      <td>341858</td>\n",
       "      <td>VANAKKAM</td>\n",
       "      <td>Chennai</td>\n",
       "      <td>--</td>\n",
       "      <td>Too Few Ratings</td>\n",
       "      <td>South Indian Snacks</td>\n",
       "      <td>100</td>\n",
       "      <td>52</td>\n",
       "      <td>52</td>\n",
       "      <td>52</td>\n",
       "      <td>True</td>\n",
       "    </tr>\n",
       "    <tr>\n",
       "      <th>2066</th>\n",
       "      <td>419784</td>\n",
       "      <td>CHENNAI FAST FOOD</td>\n",
       "      <td>Chennai</td>\n",
       "      <td>--</td>\n",
       "      <td>Too Few Ratings</td>\n",
       "      <td>Indian</td>\n",
       "      <td>160</td>\n",
       "      <td>58</td>\n",
       "      <td>58</td>\n",
       "      <td>58</td>\n",
       "      <td>False</td>\n",
       "    </tr>\n",
       "    <tr>\n",
       "      <th>2067</th>\n",
       "      <td>242554</td>\n",
       "      <td>Atho Man Ecstasy</td>\n",
       "      <td>Chennai</td>\n",
       "      <td>--</td>\n",
       "      <td>Too Few Ratings</td>\n",
       "      <td>Chaat Chinese Desserts Fast Food Ice Cream Ita...</td>\n",
       "      <td>300</td>\n",
       "      <td>60</td>\n",
       "      <td>60</td>\n",
       "      <td>60</td>\n",
       "      <td>False</td>\n",
       "    </tr>\n",
       "    <tr>\n",
       "      <th>2071</th>\n",
       "      <td>441697</td>\n",
       "      <td>SPLASH</td>\n",
       "      <td>Chennai</td>\n",
       "      <td>--</td>\n",
       "      <td>Too Few Ratings</td>\n",
       "      <td>Beverages</td>\n",
       "      <td>300</td>\n",
       "      <td>69</td>\n",
       "      <td>69</td>\n",
       "      <td>69</td>\n",
       "      <td>True</td>\n",
       "    </tr>\n",
       "    <tr>\n",
       "      <th>2073</th>\n",
       "      <td>453679</td>\n",
       "      <td>Creamy Cake Pops</td>\n",
       "      <td>Chennai</td>\n",
       "      <td>--</td>\n",
       "      <td>Too Few Ratings</td>\n",
       "      <td>Bakery</td>\n",
       "      <td>800</td>\n",
       "      <td>67</td>\n",
       "      <td>67</td>\n",
       "      <td>67</td>\n",
       "      <td>False</td>\n",
       "    </tr>\n",
       "  </tbody>\n",
       "</table>\n",
       "</div>"
      ],
      "text/plain": [
       "          id               name     city avgRating totalRatingsString  \\\n",
       "2063  341858           VANAKKAM  Chennai        --    Too Few Ratings   \n",
       "2066  419784  CHENNAI FAST FOOD  Chennai        --    Too Few Ratings   \n",
       "2067  242554   Atho Man Ecstasy  Chennai        --    Too Few Ratings   \n",
       "2071  441697             SPLASH  Chennai        --    Too Few Ratings   \n",
       "2073  453679   Creamy Cake Pops  Chennai        --    Too Few Ratings   \n",
       "\n",
       "                                               cuisines  costForTwoStrings  \\\n",
       "2063                                South Indian Snacks                100   \n",
       "2066                                             Indian                160   \n",
       "2067  Chaat Chinese Desserts Fast Food Ice Cream Ita...                300   \n",
       "2071                                          Beverages                300   \n",
       "2073                                             Bakery                800   \n",
       "\n",
       "      deliveryTime  minDeliveryTime  maxDeliveryTime    veg  \n",
       "2063            52               52               52   True  \n",
       "2066            58               58               58  False  \n",
       "2067            60               60               60  False  \n",
       "2071            69               69               69   True  \n",
       "2073            67               67               67  False  "
      ]
     },
     "execution_count": 19,
     "metadata": {},
     "output_type": "execute_result"
    }
   ],
   "source": [
    "\n",
    "db[db['avgRating']=='--'].head()"
   ]
  },
  {
   "cell_type": "markdown",
   "id": "99eff902",
   "metadata": {},
   "source": [
    "    # There are about 1949 such rows, we will drop these 1949 rows because the value for 'rate' column is '--'"
   ]
  },
  {
   "cell_type": "code",
   "execution_count": 20,
   "id": "ee1cf6bd",
   "metadata": {},
   "outputs": [],
   "source": [
    "a=db.loc[db['avgRating']=='--'].index\n",
    "db.drop(a,axis=0,inplace=True)"
   ]
  },
  {
   "cell_type": "code",
   "execution_count": 21,
   "id": "b199b130",
   "metadata": {},
   "outputs": [],
   "source": [
    "# db[db['avgRating']=='--'].head()"
   ]
  },
  {
   "cell_type": "code",
   "execution_count": 22,
   "id": "7b02104d",
   "metadata": {},
   "outputs": [
    {
     "data": {
      "text/plain": [
       "669"
      ]
     },
     "execution_count": 22,
     "metadata": {},
     "output_type": "execute_result"
    }
   ],
   "source": [
    "# check for null vlues in ratings\n",
    "db['avgRating'].isnull().sum()"
   ]
  },
  {
   "cell_type": "code",
   "execution_count": 23,
   "id": "00a597aa",
   "metadata": {},
   "outputs": [],
   "source": [
    "# convert all null / empty values to 0 or 1 in ratings\n",
    "\n",
    "db['avgRating']=db['avgRating'].fillna(0)\n"
   ]
  },
  {
   "cell_type": "code",
   "execution_count": 24,
   "id": "4edb6a38",
   "metadata": {},
   "outputs": [],
   "source": [
    "# converting avgRating to float\n",
    "db['avgRating']=db['avgRating'].astype(float)"
   ]
  },
  {
   "cell_type": "code",
   "execution_count": 25,
   "id": "b7e1f019",
   "metadata": {},
   "outputs": [
    {
     "data": {
      "text/html": [
       "<div>\n",
       "<style scoped>\n",
       "    .dataframe tbody tr th:only-of-type {\n",
       "        vertical-align: middle;\n",
       "    }\n",
       "\n",
       "    .dataframe tbody tr th {\n",
       "        vertical-align: top;\n",
       "    }\n",
       "\n",
       "    .dataframe thead th {\n",
       "        text-align: right;\n",
       "    }\n",
       "</style>\n",
       "<table border=\"1\" class=\"dataframe\">\n",
       "  <thead>\n",
       "    <tr style=\"text-align: right;\">\n",
       "      <th></th>\n",
       "      <th>totalRatingsString</th>\n",
       "      <th>avgRating</th>\n",
       "    </tr>\n",
       "  </thead>\n",
       "  <tbody>\n",
       "    <tr>\n",
       "      <th>1774</th>\n",
       "      <td>20+ ratings</td>\n",
       "      <td>5.0</td>\n",
       "    </tr>\n",
       "    <tr>\n",
       "      <th>1268</th>\n",
       "      <td>20+ ratings</td>\n",
       "      <td>5.0</td>\n",
       "    </tr>\n",
       "    <tr>\n",
       "      <th>1125</th>\n",
       "      <td>20+ ratings</td>\n",
       "      <td>5.0</td>\n",
       "    </tr>\n",
       "    <tr>\n",
       "      <th>5646</th>\n",
       "      <td>20+ ratings</td>\n",
       "      <td>5.0</td>\n",
       "    </tr>\n",
       "    <tr>\n",
       "      <th>4813</th>\n",
       "      <td>50+ ratings</td>\n",
       "      <td>5.0</td>\n",
       "    </tr>\n",
       "  </tbody>\n",
       "</table>\n",
       "</div>"
      ],
      "text/plain": [
       "     totalRatingsString  avgRating\n",
       "1774        20+ ratings        5.0\n",
       "1268        20+ ratings        5.0\n",
       "1125        20+ ratings        5.0\n",
       "5646        20+ ratings        5.0\n",
       "4813        50+ ratings        5.0"
      ]
     },
     "execution_count": 25,
     "metadata": {},
     "output_type": "execute_result"
    }
   ],
   "source": [
    "db[['totalRatingsString','avgRating']].sort_values(by='avgRating',ascending=False).head(5)"
   ]
  },
  {
   "cell_type": "code",
   "execution_count": 26,
   "id": "99943b70",
   "metadata": {},
   "outputs": [
    {
     "data": {
      "text/plain": [
       "array([4.1, 4.4, 4. , 3.8, 0. , 4.2, 4.5, 3. , 4.6, 4.3, 2.8, 3.9, 3.3,\n",
       "       4.8, 3.5, 2.9, 2.4, 2.6, 3.2, 3.6, 3.7, 4.7, 3.4, 2.7, 3.1, 4.9,\n",
       "       5. , 2.5, 2.3, 2. , 2.2])"
      ]
     },
     "execution_count": 26,
     "metadata": {},
     "output_type": "execute_result"
    }
   ],
   "source": [
    "db['avgRating'].unique()"
   ]
  },
  {
   "cell_type": "code",
   "execution_count": 27,
   "id": "7381f4ae",
   "metadata": {},
   "outputs": [
    {
     "data": {
      "text/html": [
       "<div>\n",
       "<style scoped>\n",
       "    .dataframe tbody tr th:only-of-type {\n",
       "        vertical-align: middle;\n",
       "    }\n",
       "\n",
       "    .dataframe tbody tr th {\n",
       "        vertical-align: top;\n",
       "    }\n",
       "\n",
       "    .dataframe thead th {\n",
       "        text-align: right;\n",
       "    }\n",
       "</style>\n",
       "<table border=\"1\" class=\"dataframe\">\n",
       "  <thead>\n",
       "    <tr style=\"text-align: right;\">\n",
       "      <th></th>\n",
       "      <th>name</th>\n",
       "      <th>avgRating</th>\n",
       "    </tr>\n",
       "  </thead>\n",
       "  <tbody>\n",
       "    <tr>\n",
       "      <th>1125</th>\n",
       "      <td>Tricky Shakes</td>\n",
       "      <td>5.0</td>\n",
       "    </tr>\n",
       "    <tr>\n",
       "      <th>1268</th>\n",
       "      <td>CREAMS &amp; BITES</td>\n",
       "      <td>5.0</td>\n",
       "    </tr>\n",
       "    <tr>\n",
       "      <th>1774</th>\n",
       "      <td>Nasi and Mee</td>\n",
       "      <td>5.0</td>\n",
       "    </tr>\n",
       "    <tr>\n",
       "      <th>2192</th>\n",
       "      <td>Afresh</td>\n",
       "      <td>5.0</td>\n",
       "    </tr>\n",
       "    <tr>\n",
       "      <th>4630</th>\n",
       "      <td>SNAXX</td>\n",
       "      <td>5.0</td>\n",
       "    </tr>\n",
       "    <tr>\n",
       "      <th>4632</th>\n",
       "      <td>Diamond Market Pizza JP</td>\n",
       "      <td>5.0</td>\n",
       "    </tr>\n",
       "    <tr>\n",
       "      <th>4813</th>\n",
       "      <td>Cafe Kokomo</td>\n",
       "      <td>5.0</td>\n",
       "    </tr>\n",
       "    <tr>\n",
       "      <th>4892</th>\n",
       "      <td>NIVALA APKA APNA</td>\n",
       "      <td>5.0</td>\n",
       "    </tr>\n",
       "    <tr>\n",
       "      <th>5646</th>\n",
       "      <td>The Asian Pavilion</td>\n",
       "      <td>5.0</td>\n",
       "    </tr>\n",
       "    <tr>\n",
       "      <th>5647</th>\n",
       "      <td>Get In My Belly</td>\n",
       "      <td>5.0</td>\n",
       "    </tr>\n",
       "    <tr>\n",
       "      <th>5733</th>\n",
       "      <td>Shree Krishna Juice Bar</td>\n",
       "      <td>5.0</td>\n",
       "    </tr>\n",
       "  </tbody>\n",
       "</table>\n",
       "</div>"
      ],
      "text/plain": [
       "                         name  avgRating\n",
       "1125            Tricky Shakes        5.0\n",
       "1268           CREAMS & BITES        5.0\n",
       "1774             Nasi and Mee        5.0\n",
       "2192                   Afresh        5.0\n",
       "4630                    SNAXX        5.0\n",
       "4632  Diamond Market Pizza JP        5.0\n",
       "4813              Cafe Kokomo        5.0\n",
       "4892         NIVALA APKA APNA        5.0\n",
       "5646       The Asian Pavilion        5.0\n",
       "5647          Get In My Belly        5.0\n",
       "5733  Shree Krishna Juice Bar        5.0"
      ]
     },
     "execution_count": 27,
     "metadata": {},
     "output_type": "execute_result"
    }
   ],
   "source": [
    "db[db['avgRating']==5][['name','avgRating']]"
   ]
  },
  {
   "cell_type": "code",
   "execution_count": 28,
   "id": "25d79e11",
   "metadata": {
    "scrolled": true
   },
   "outputs": [
    {
     "data": {
      "text/plain": [
       "array(['100+ ratings', '50+ ratings', 'Too Few Ratings', '500+ ratings',\n",
       "       '20+ ratings', '1000+ ratings', '5000+ ratings'], dtype=object)"
      ]
     },
     "execution_count": 28,
     "metadata": {},
     "output_type": "execute_result"
    }
   ],
   "source": [
    "db['totalRatingsString'].unique()"
   ]
  },
  {
   "cell_type": "code",
   "execution_count": 29,
   "id": "2a67d307",
   "metadata": {},
   "outputs": [
    {
     "data": {
      "text/html": [
       "<div>\n",
       "<style scoped>\n",
       "    .dataframe tbody tr th:only-of-type {\n",
       "        vertical-align: middle;\n",
       "    }\n",
       "\n",
       "    .dataframe tbody tr th {\n",
       "        vertical-align: top;\n",
       "    }\n",
       "\n",
       "    .dataframe thead th {\n",
       "        text-align: right;\n",
       "    }\n",
       "</style>\n",
       "<table border=\"1\" class=\"dataframe\">\n",
       "  <thead>\n",
       "    <tr style=\"text-align: right;\">\n",
       "      <th></th>\n",
       "      <th>name</th>\n",
       "      <th>avgRating</th>\n",
       "    </tr>\n",
       "  </thead>\n",
       "  <tbody>\n",
       "    <tr>\n",
       "      <th>1774</th>\n",
       "      <td>Nasi and Mee</td>\n",
       "      <td>5.0</td>\n",
       "    </tr>\n",
       "    <tr>\n",
       "      <th>1268</th>\n",
       "      <td>CREAMS &amp; BITES</td>\n",
       "      <td>5.0</td>\n",
       "    </tr>\n",
       "    <tr>\n",
       "      <th>1125</th>\n",
       "      <td>Tricky Shakes</td>\n",
       "      <td>5.0</td>\n",
       "    </tr>\n",
       "    <tr>\n",
       "      <th>5646</th>\n",
       "      <td>The Asian Pavilion</td>\n",
       "      <td>5.0</td>\n",
       "    </tr>\n",
       "    <tr>\n",
       "      <th>4813</th>\n",
       "      <td>Cafe Kokomo</td>\n",
       "      <td>5.0</td>\n",
       "    </tr>\n",
       "    <tr>\n",
       "      <th>...</th>\n",
       "      <td>...</td>\n",
       "      <td>...</td>\n",
       "    </tr>\n",
       "    <tr>\n",
       "      <th>603</th>\n",
       "      <td>Map's Meaty Paradise</td>\n",
       "      <td>0.0</td>\n",
       "    </tr>\n",
       "    <tr>\n",
       "      <th>601</th>\n",
       "      <td>Manna Foods</td>\n",
       "      <td>0.0</td>\n",
       "    </tr>\n",
       "    <tr>\n",
       "      <th>598</th>\n",
       "      <td>Er. Momo's</td>\n",
       "      <td>0.0</td>\n",
       "    </tr>\n",
       "    <tr>\n",
       "      <th>2019</th>\n",
       "      <td>The Great Wall of China</td>\n",
       "      <td>0.0</td>\n",
       "    </tr>\n",
       "    <tr>\n",
       "      <th>648</th>\n",
       "      <td>S N BLU- THE FOOD LIBRARY</td>\n",
       "      <td>0.0</td>\n",
       "    </tr>\n",
       "  </tbody>\n",
       "</table>\n",
       "<p>4824 rows × 2 columns</p>\n",
       "</div>"
      ],
      "text/plain": [
       "                           name  avgRating\n",
       "1774               Nasi and Mee        5.0\n",
       "1268             CREAMS & BITES        5.0\n",
       "1125              Tricky Shakes        5.0\n",
       "5646         The Asian Pavilion        5.0\n",
       "4813                Cafe Kokomo        5.0\n",
       "...                         ...        ...\n",
       "603        Map's Meaty Paradise        0.0\n",
       "601                 Manna Foods        0.0\n",
       "598                  Er. Momo's        0.0\n",
       "2019    The Great Wall of China        0.0\n",
       "648   S N BLU- THE FOOD LIBRARY        0.0\n",
       "\n",
       "[4824 rows x 2 columns]"
      ]
     },
     "execution_count": 29,
     "metadata": {},
     "output_type": "execute_result"
    }
   ],
   "source": [
    "db[['name','avgRating']].sort_values(by='avgRating',ascending=False)"
   ]
  },
  {
   "cell_type": "code",
   "execution_count": 30,
   "id": "250abee7",
   "metadata": {},
   "outputs": [
    {
     "data": {
      "text/html": [
       "<div>\n",
       "<style scoped>\n",
       "    .dataframe tbody tr th:only-of-type {\n",
       "        vertical-align: middle;\n",
       "    }\n",
       "\n",
       "    .dataframe tbody tr th {\n",
       "        vertical-align: top;\n",
       "    }\n",
       "\n",
       "    .dataframe thead th {\n",
       "        text-align: right;\n",
       "    }\n",
       "</style>\n",
       "<table border=\"1\" class=\"dataframe\">\n",
       "  <thead>\n",
       "    <tr style=\"text-align: right;\">\n",
       "      <th></th>\n",
       "      <th>id</th>\n",
       "      <th>name</th>\n",
       "      <th>city</th>\n",
       "      <th>avgRating</th>\n",
       "      <th>totalRatingsString</th>\n",
       "      <th>cuisines</th>\n",
       "      <th>costForTwoStrings</th>\n",
       "      <th>deliveryTime</th>\n",
       "      <th>minDeliveryTime</th>\n",
       "      <th>maxDeliveryTime</th>\n",
       "      <th>veg</th>\n",
       "    </tr>\n",
       "  </thead>\n",
       "  <tbody>\n",
       "    <tr>\n",
       "      <th>0</th>\n",
       "      <td>239753</td>\n",
       "      <td>The Halal Kitchen</td>\n",
       "      <td>Ahmedabad</td>\n",
       "      <td>4.1</td>\n",
       "      <td>100+ ratings</td>\n",
       "      <td>North Indian Chinese Afghani Biryani</td>\n",
       "      <td>250</td>\n",
       "      <td>31</td>\n",
       "      <td>31</td>\n",
       "      <td>31</td>\n",
       "      <td>False</td>\n",
       "    </tr>\n",
       "    <tr>\n",
       "      <th>1</th>\n",
       "      <td>50934</td>\n",
       "      <td>Choice Snack Bar</td>\n",
       "      <td>Ahmedabad</td>\n",
       "      <td>4.4</td>\n",
       "      <td>100+ ratings</td>\n",
       "      <td>Beverages</td>\n",
       "      <td>450</td>\n",
       "      <td>33</td>\n",
       "      <td>33</td>\n",
       "      <td>33</td>\n",
       "      <td>False</td>\n",
       "    </tr>\n",
       "  </tbody>\n",
       "</table>\n",
       "</div>"
      ],
      "text/plain": [
       "       id               name       city  avgRating totalRatingsString  \\\n",
       "0  239753  The Halal Kitchen  Ahmedabad        4.1       100+ ratings   \n",
       "1   50934   Choice Snack Bar  Ahmedabad        4.4       100+ ratings   \n",
       "\n",
       "                               cuisines  costForTwoStrings  deliveryTime  \\\n",
       "0  North Indian Chinese Afghani Biryani                250            31   \n",
       "1                             Beverages                450            33   \n",
       "\n",
       "   minDeliveryTime  maxDeliveryTime    veg  \n",
       "0               31               31  False  \n",
       "1               33               33  False  "
      ]
     },
     "execution_count": 30,
     "metadata": {},
     "output_type": "execute_result"
    }
   ],
   "source": [
    "db.head(2)"
   ]
  },
  {
   "cell_type": "markdown",
   "id": "9142b08f",
   "metadata": {},
   "source": [
    "### Top 3 rated Shops"
   ]
  },
  {
   "cell_type": "code",
   "execution_count": 31,
   "id": "6ed7f055",
   "metadata": {
    "scrolled": true
   },
   "outputs": [
    {
     "data": {
      "text/html": [
       "<div>\n",
       "<style scoped>\n",
       "    .dataframe tbody tr th:only-of-type {\n",
       "        vertical-align: middle;\n",
       "    }\n",
       "\n",
       "    .dataframe tbody tr th {\n",
       "        vertical-align: top;\n",
       "    }\n",
       "\n",
       "    .dataframe thead th {\n",
       "        text-align: right;\n",
       "    }\n",
       "</style>\n",
       "<table border=\"1\" class=\"dataframe\">\n",
       "  <thead>\n",
       "    <tr style=\"text-align: right;\">\n",
       "      <th></th>\n",
       "      <th>name</th>\n",
       "      <th>avgRating</th>\n",
       "      <th>totalRatingsString</th>\n",
       "    </tr>\n",
       "  </thead>\n",
       "  <tbody>\n",
       "    <tr>\n",
       "      <th>4813</th>\n",
       "      <td>Cafe Kokomo</td>\n",
       "      <td>5.0</td>\n",
       "      <td>50+ ratings</td>\n",
       "    </tr>\n",
       "    <tr>\n",
       "      <th>4892</th>\n",
       "      <td>NIVALA APKA APNA</td>\n",
       "      <td>5.0</td>\n",
       "      <td>20+ ratings</td>\n",
       "    </tr>\n",
       "    <tr>\n",
       "      <th>5646</th>\n",
       "      <td>The Asian Pavilion</td>\n",
       "      <td>5.0</td>\n",
       "      <td>20+ ratings</td>\n",
       "    </tr>\n",
       "    <tr>\n",
       "      <th>5647</th>\n",
       "      <td>Get In My Belly</td>\n",
       "      <td>5.0</td>\n",
       "      <td>20+ ratings</td>\n",
       "    </tr>\n",
       "    <tr>\n",
       "      <th>5733</th>\n",
       "      <td>Shree Krishna Juice Bar</td>\n",
       "      <td>5.0</td>\n",
       "      <td>20+ ratings</td>\n",
       "    </tr>\n",
       "  </tbody>\n",
       "</table>\n",
       "</div>"
      ],
      "text/plain": [
       "                         name  avgRating totalRatingsString\n",
       "4813              Cafe Kokomo        5.0        50+ ratings\n",
       "4892         NIVALA APKA APNA        5.0        20+ ratings\n",
       "5646       The Asian Pavilion        5.0        20+ ratings\n",
       "5647          Get In My Belly        5.0        20+ ratings\n",
       "5733  Shree Krishna Juice Bar        5.0        20+ ratings"
      ]
     },
     "execution_count": 31,
     "metadata": {},
     "output_type": "execute_result"
    }
   ],
   "source": [
    "\n",
    "ab=db[(db['avgRating']==5) & (db['totalRatingsString'].isin(['50+ ratings','5000+ ratings','20+ ratings']))][['name','avgRating','totalRatingsString']].tail(5)\n",
    "ab"
   ]
  },
  {
   "cell_type": "markdown",
   "id": "695c1700",
   "metadata": {},
   "source": [
    "####   So from the above result we can see that Cafe Kokomo, NIVALA APKA APNA, The Asian Pavilion are the Top 3 rated restaraunts  "
   ]
  },
  {
   "cell_type": "markdown",
   "id": "eb6bed3b",
   "metadata": {},
   "source": [
    "### Bottom 3 rated shops"
   ]
  },
  {
   "cell_type": "code",
   "execution_count": 32,
   "id": "a52d0256",
   "metadata": {},
   "outputs": [
    {
     "data": {
      "text/html": [
       "<div>\n",
       "<style scoped>\n",
       "    .dataframe tbody tr th:only-of-type {\n",
       "        vertical-align: middle;\n",
       "    }\n",
       "\n",
       "    .dataframe tbody tr th {\n",
       "        vertical-align: top;\n",
       "    }\n",
       "\n",
       "    .dataframe thead th {\n",
       "        text-align: right;\n",
       "    }\n",
       "</style>\n",
       "<table border=\"1\" class=\"dataframe\">\n",
       "  <thead>\n",
       "    <tr style=\"text-align: right;\">\n",
       "      <th></th>\n",
       "      <th>name</th>\n",
       "      <th>avgRating</th>\n",
       "      <th>totalRatingsString</th>\n",
       "    </tr>\n",
       "  </thead>\n",
       "  <tbody>\n",
       "    <tr>\n",
       "      <th>2036</th>\n",
       "      <td>Mr Mrs Madharasi Cafe</td>\n",
       "      <td>0.0</td>\n",
       "      <td>Too Few Ratings</td>\n",
       "    </tr>\n",
       "    <tr>\n",
       "      <th>2043</th>\n",
       "      <td>SMILEY</td>\n",
       "      <td>0.0</td>\n",
       "      <td>Too Few Ratings</td>\n",
       "    </tr>\n",
       "    <tr>\n",
       "      <th>2045</th>\n",
       "      <td>Ammi's Biryani</td>\n",
       "      <td>0.0</td>\n",
       "      <td>Too Few Ratings</td>\n",
       "    </tr>\n",
       "    <tr>\n",
       "      <th>2048</th>\n",
       "      <td>CREAM AND FUDGE</td>\n",
       "      <td>0.0</td>\n",
       "      <td>Too Few Ratings</td>\n",
       "    </tr>\n",
       "    <tr>\n",
       "      <th>2053</th>\n",
       "      <td>PAPACREAM</td>\n",
       "      <td>0.0</td>\n",
       "      <td>Too Few Ratings</td>\n",
       "    </tr>\n",
       "  </tbody>\n",
       "</table>\n",
       "</div>"
      ],
      "text/plain": [
       "                       name  avgRating totalRatingsString\n",
       "2036  Mr Mrs Madharasi Cafe        0.0    Too Few Ratings\n",
       "2043                 SMILEY        0.0    Too Few Ratings\n",
       "2045         Ammi's Biryani        0.0    Too Few Ratings\n",
       "2048        CREAM AND FUDGE        0.0    Too Few Ratings\n",
       "2053              PAPACREAM        0.0    Too Few Ratings"
      ]
     },
     "execution_count": 32,
     "metadata": {},
     "output_type": "execute_result"
    }
   ],
   "source": [
    "# Bottom 3 rated shops\n",
    "\n",
    "db[(db['avgRating']==0) & (db['totalRatingsString']=='Too Few Ratings')][['name','avgRating','totalRatingsString']].tail(5)\n",
    "\n",
    "# so Bottom 3 rated shops are PAPACREAM, CREAM AND FUDGE, Ammi's Biryani"
   ]
  },
  {
   "cell_type": "markdown",
   "id": "a662d932",
   "metadata": {},
   "source": [
    "### Task 4"
   ]
  },
  {
   "cell_type": "markdown",
   "id": "e1a1079b",
   "metadata": {},
   "source": [
    "### Average delivery time for items in Task 1"
   ]
  },
  {
   "cell_type": "markdown",
   "id": "47d3807a",
   "metadata": {},
   "source": [
    "    Indian          \n",
    "    Chinese         \n",
    "    North Indian    "
   ]
  },
  {
   "cell_type": "code",
   "execution_count": 33,
   "id": "6e87fe14",
   "metadata": {},
   "outputs": [
    {
     "data": {
      "text/html": [
       "<div>\n",
       "<style scoped>\n",
       "    .dataframe tbody tr th:only-of-type {\n",
       "        vertical-align: middle;\n",
       "    }\n",
       "\n",
       "    .dataframe tbody tr th {\n",
       "        vertical-align: top;\n",
       "    }\n",
       "\n",
       "    .dataframe thead th {\n",
       "        text-align: right;\n",
       "    }\n",
       "</style>\n",
       "<table border=\"1\" class=\"dataframe\">\n",
       "  <thead>\n",
       "    <tr style=\"text-align: right;\">\n",
       "      <th></th>\n",
       "      <th>id</th>\n",
       "      <th>name</th>\n",
       "      <th>city</th>\n",
       "      <th>avgRating</th>\n",
       "      <th>totalRatingsString</th>\n",
       "      <th>cuisines</th>\n",
       "      <th>costForTwoStrings</th>\n",
       "      <th>deliveryTime</th>\n",
       "      <th>minDeliveryTime</th>\n",
       "      <th>maxDeliveryTime</th>\n",
       "      <th>veg</th>\n",
       "    </tr>\n",
       "  </thead>\n",
       "  <tbody>\n",
       "    <tr>\n",
       "      <th>0</th>\n",
       "      <td>239753</td>\n",
       "      <td>The Halal Kitchen</td>\n",
       "      <td>Ahmedabad</td>\n",
       "      <td>4.1</td>\n",
       "      <td>100+ ratings</td>\n",
       "      <td>North Indian Chinese Afghani Biryani</td>\n",
       "      <td>250</td>\n",
       "      <td>31</td>\n",
       "      <td>31</td>\n",
       "      <td>31</td>\n",
       "      <td>False</td>\n",
       "    </tr>\n",
       "    <tr>\n",
       "      <th>1</th>\n",
       "      <td>50934</td>\n",
       "      <td>Choice Snack Bar</td>\n",
       "      <td>Ahmedabad</td>\n",
       "      <td>4.4</td>\n",
       "      <td>100+ ratings</td>\n",
       "      <td>Beverages</td>\n",
       "      <td>450</td>\n",
       "      <td>33</td>\n",
       "      <td>33</td>\n",
       "      <td>33</td>\n",
       "      <td>False</td>\n",
       "    </tr>\n",
       "  </tbody>\n",
       "</table>\n",
       "</div>"
      ],
      "text/plain": [
       "       id               name       city  avgRating totalRatingsString  \\\n",
       "0  239753  The Halal Kitchen  Ahmedabad        4.1       100+ ratings   \n",
       "1   50934   Choice Snack Bar  Ahmedabad        4.4       100+ ratings   \n",
       "\n",
       "                               cuisines  costForTwoStrings  deliveryTime  \\\n",
       "0  North Indian Chinese Afghani Biryani                250            31   \n",
       "1                             Beverages                450            33   \n",
       "\n",
       "   minDeliveryTime  maxDeliveryTime    veg  \n",
       "0               31               31  False  \n",
       "1               33               33  False  "
      ]
     },
     "execution_count": 33,
     "metadata": {},
     "output_type": "execute_result"
    }
   ],
   "source": [
    "db.head(2)"
   ]
  },
  {
   "cell_type": "markdown",
   "id": "87555728",
   "metadata": {},
   "source": [
    "#### Indian"
   ]
  },
  {
   "cell_type": "code",
   "execution_count": 34,
   "id": "5c28a80b",
   "metadata": {},
   "outputs": [
    {
     "data": {
      "text/plain": [
       "deliveryTime    53.9\n",
       "dtype: float64"
      ]
     },
     "execution_count": 34,
     "metadata": {},
     "output_type": "execute_result"
    }
   ],
   "source": [
    "# Average delivery time for items in Task 1\n",
    "\n",
    "t4a=db[db['cuisines']=='Indian'][['deliveryTime']].mean()\n",
    "t4a"
   ]
  },
  {
   "cell_type": "markdown",
   "id": "ac413459",
   "metadata": {},
   "source": [
    "####    So Average delivery time for Indian food is 56.65 minutes"
   ]
  },
  {
   "cell_type": "markdown",
   "id": "4ba3f833",
   "metadata": {},
   "source": [
    "#### Chinese"
   ]
  },
  {
   "cell_type": "code",
   "execution_count": 35,
   "id": "1cdf06d2",
   "metadata": {
    "scrolled": true
   },
   "outputs": [
    {
     "data": {
      "text/plain": [
       "deliveryTime    56.036036\n",
       "dtype: float64"
      ]
     },
     "execution_count": 35,
     "metadata": {},
     "output_type": "execute_result"
    }
   ],
   "source": [
    "t4b=db[db['cuisines']=='Chinese'][['deliveryTime']].mean()\n",
    "t4b"
   ]
  },
  {
   "cell_type": "markdown",
   "id": "f1d7b7cc",
   "metadata": {},
   "source": [
    "#### So Average delivery time for Indian food is 56.036 minutes"
   ]
  },
  {
   "cell_type": "markdown",
   "id": "adf52d63",
   "metadata": {},
   "source": [
    "#### North Indian"
   ]
  },
  {
   "cell_type": "code",
   "execution_count": 36,
   "id": "2c0104e5",
   "metadata": {},
   "outputs": [
    {
     "data": {
      "text/plain": [
       "deliveryTime    51.013699\n",
       "dtype: float64"
      ]
     },
     "execution_count": 36,
     "metadata": {},
     "output_type": "execute_result"
    }
   ],
   "source": [
    "t4c=db[db['cuisines']=='North Indian'][['deliveryTime']].mean(axis=0)\n",
    "t4c"
   ]
  },
  {
   "cell_type": "markdown",
   "id": "a428ad46",
   "metadata": {},
   "source": [
    "#### So Average delivery time for Indian food is 51.01 minutes"
   ]
  },
  {
   "cell_type": "code",
   "execution_count": 37,
   "id": "8fbc395e",
   "metadata": {
    "scrolled": false
   },
   "outputs": [
    {
     "data": {
      "text/plain": [
       "deliveryTime    53.505353\n",
       "dtype: float64"
      ]
     },
     "execution_count": 37,
     "metadata": {},
     "output_type": "execute_result"
    }
   ],
   "source": [
    "# 3 combined\n",
    "\n",
    "t4d=db[db['cuisines'].isin(['Indian','Chinese','North Indian'])][['deliveryTime']].mean()\n",
    "t4d"
   ]
  },
  {
   "cell_type": "code",
   "execution_count": 46,
   "id": "a62dbecf",
   "metadata": {
    "scrolled": true
   },
   "outputs": [
    {
     "name": "stdout",
     "output_type": "stream",
     "text": [
      "[53.9, 56.03603603603604, 51.013698630136986]\n"
     ]
    },
    {
     "data": {
      "image/png": "[encoded data removed]",
      "text/plain": [
       "<Figure size 720x504 with 1 Axes>"
      ]
     },
     "metadata": {
      "needs_background": "light"
     },
     "output_type": "display_data"
    }
   ],
   "source": [
    "t4a=db[db['cuisines']=='Indian']['deliveryTime'].mean()\n",
    "t4b=db[db['cuisines']=='Chinese']['deliveryTime'].mean()\n",
    "t4c=db[db['cuisines']=='North Indian']['deliveryTime'].mean()\n",
    "\n",
    "a=[t4a,t4b,t4c]\n",
    "print(a)\n",
    "\n",
    "plt.figure(figsize=(10,7))\n",
    "\n",
    "plt.xlabel('Cuisines',fontsize=15)\n",
    "plt.ylabel('Avg Delivery Time',fontsize=15)\n",
    "\n",
    "plt.title('Average cuisines of Top 3 food ordered',fontsize=15)\n",
    "\n",
    "plt.plot(['Indian','Chinese','North Indian'],a,color='g',marker='*');\n"
   ]
  },
  {
   "cell_type": "code",
   "execution_count": null,
   "id": "69d99d2c",
   "metadata": {},
   "outputs": [],
   "source": []
  },
  {
   "cell_type": "markdown",
   "id": "e93bd8b8",
   "metadata": {},
   "source": [
    "............"
   ]
  },
  {
   "cell_type": "markdown",
   "id": "1aa528d5",
   "metadata": {},
   "source": [
    "                                                        Thank You "
   ]
  },
  {
   "cell_type": "code",
   "execution_count": null,
   "id": "257bde01",
   "metadata": {},
   "outputs": [],
   "source": []
  }
 ],
 "metadata": {
  "kernelspec": {
   "display_name": "Python 3 (ipykernel)",
   "language": "python",
   "name": "python3"
  },
  "language_info": {
   "codemirror_mode": {
    "name": "ipython",
    "version": 3
   },
   "file_extension": ".py",
   "mimetype": "text/x-python",
   "name": "python",
   "nbconvert_exporter": "python",
   "pygments_lexer": "ipython3",
   "version": "3.9.7"
  }
 },
 "nbformat": 4,
 "nbformat_minor": 5
}
